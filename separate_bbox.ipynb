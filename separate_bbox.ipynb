{
 "cells": [
  {
   "cell_type": "markdown",
   "metadata": {},
   "source": [
    "Нахождение bbox для отдельных частей тела: лица, губ, носа, правого глаза. левого глаза, бровей   \n",
    "лицо 0-40   \n",
    "нос 41-57   \n",
    "губы 58-113   \n",
    "правый глаз 114-134   \n",
    "левый глаз 135-153   \n",
    "правая бровь 154-174   \n",
    "левая бровь 175 -194   "
   ]
  },
  {
   "cell_type": "code",
   "execution_count": 1,
   "metadata": {},
   "outputs": [],
   "source": [
    "import os\n",
    "import cv2\n",
    "import pandas as pd\n",
    "import numpy as np\n",
    "from PIL import Image, ImageDraw\n",
    "from matplotlib import pyplot as plt"
   ]
  },
  {
   "cell_type": "code",
   "execution_count": 2,
   "metadata": {},
   "outputs": [],
   "source": [
    "DIR_TRAIN = './data/train'\n",
    "DIR_TEST = './data/test'\n",
    "TRAIN_PATH = \"./data/train/images\"\n",
    "TEST_PATH  = \"./data/test/images\""
   ]
  },
  {
   "cell_type": "code",
   "execution_count": 3,
   "metadata": {},
   "outputs": [],
   "source": [
    "landmarks = pd.read_csv(os.path.join(DIR_TRAIN, 'landmarks_train.csv'))"
   ]
  },
  {
   "cell_type": "code",
   "execution_count": 4,
   "metadata": {},
   "outputs": [],
   "source": [
    "landmarks = pd.read_csv('pred_test.csv')"
   ]
  },
  {
   "cell_type": "code",
   "execution_count": 5,
   "metadata": {},
   "outputs": [],
   "source": [
    "points_faces = list(range(0,41))\n",
    "points_noses = list(range(41,58))\n",
    "points_lips = list(range(58,114))\n",
    "points_r_eye = list(range(114,135))\n",
    "points_l_eye = list(range(135,154))\n",
    "points_r_eyebrow = list(range(154,175))\n",
    "points_l_eyebrow = list(range(175,194))"
   ]
  },
  {
   "cell_type": "code",
   "execution_count": 6,
   "metadata": {},
   "outputs": [
    {
     "name": "stdout",
     "output_type": "stream",
     "text": [
      "41\n",
      "17\n",
      "56\n",
      "21\n",
      "19\n",
      "21\n",
      "19\n"
     ]
    }
   ],
   "source": [
    "print(len(points_faces))\n",
    "print(len(points_noses))\n",
    "print(len(points_lips))\n",
    "print(len(points_r_eye))\n",
    "print(len(points_l_eye))\n",
    "print(len(points_r_eyebrow))\n",
    "print(len(points_l_eyebrow))"
   ]
  },
  {
   "cell_type": "code",
   "execution_count": null,
   "metadata": {},
   "outputs": [],
   "source": []
  },
  {
   "cell_type": "code",
   "execution_count": null,
   "metadata": {},
   "outputs": [],
   "source": []
  },
  {
   "cell_type": "code",
   "execution_count": 7,
   "metadata": {},
   "outputs": [
    {
     "data": {
      "text/html": [
       "<div>\n",
       "<style scoped>\n",
       "    .dataframe tbody tr th:only-of-type {\n",
       "        vertical-align: middle;\n",
       "    }\n",
       "\n",
       "    .dataframe tbody tr th {\n",
       "        vertical-align: top;\n",
       "    }\n",
       "\n",
       "    .dataframe thead th {\n",
       "        text-align: right;\n",
       "    }\n",
       "</style>\n",
       "<table border=\"1\" class=\"dataframe\">\n",
       "  <thead>\n",
       "    <tr style=\"text-align: right;\">\n",
       "      <th></th>\n",
       "      <th>file_name</th>\n",
       "      <th>Point_M0_X</th>\n",
       "      <th>Point_M0_Y</th>\n",
       "      <th>Point_M1_X</th>\n",
       "      <th>Point_M1_Y</th>\n",
       "      <th>Point_M2_X</th>\n",
       "      <th>Point_M2_Y</th>\n",
       "      <th>Point_M3_X</th>\n",
       "      <th>Point_M3_Y</th>\n",
       "      <th>Point_M4_X</th>\n",
       "      <th>...</th>\n",
       "      <th>Point_M189_X</th>\n",
       "      <th>Point_M189_Y</th>\n",
       "      <th>Point_M190_X</th>\n",
       "      <th>Point_M190_Y</th>\n",
       "      <th>Point_M191_X</th>\n",
       "      <th>Point_M191_Y</th>\n",
       "      <th>Point_M192_X</th>\n",
       "      <th>Point_M192_Y</th>\n",
       "      <th>Point_M193_X</th>\n",
       "      <th>Point_M193_Y</th>\n",
       "    </tr>\n",
       "  </thead>\n",
       "  <tbody>\n",
       "    <tr>\n",
       "      <th>0</th>\n",
       "      <td>296814969_3.jpg</td>\n",
       "      <td>280</td>\n",
       "      <td>397</td>\n",
       "      <td>283</td>\n",
       "      <td>411</td>\n",
       "      <td>287</td>\n",
       "      <td>418</td>\n",
       "      <td>291</td>\n",
       "      <td>432</td>\n",
       "      <td>294</td>\n",
       "      <td>...</td>\n",
       "      <td>378</td>\n",
       "      <td>320</td>\n",
       "      <td>389</td>\n",
       "      <td>320</td>\n",
       "      <td>400</td>\n",
       "      <td>320</td>\n",
       "      <td>407</td>\n",
       "      <td>323</td>\n",
       "      <td>418</td>\n",
       "      <td>323</td>\n",
       "    </tr>\n",
       "    <tr>\n",
       "      <th>1</th>\n",
       "      <td>2968560214_1.jpg</td>\n",
       "      <td>669</td>\n",
       "      <td>518</td>\n",
       "      <td>661</td>\n",
       "      <td>542</td>\n",
       "      <td>661</td>\n",
       "      <td>566</td>\n",
       "      <td>653</td>\n",
       "      <td>598</td>\n",
       "      <td>645</td>\n",
       "      <td>...</td>\n",
       "      <td>530</td>\n",
       "      <td>371</td>\n",
       "      <td>506</td>\n",
       "      <td>371</td>\n",
       "      <td>490</td>\n",
       "      <td>379</td>\n",
       "      <td>466</td>\n",
       "      <td>379</td>\n",
       "      <td>450</td>\n",
       "      <td>379</td>\n",
       "    </tr>\n",
       "    <tr>\n",
       "      <th>2</th>\n",
       "      <td>2968784797_1.jpg</td>\n",
       "      <td>433</td>\n",
       "      <td>1788</td>\n",
       "      <td>433</td>\n",
       "      <td>1869</td>\n",
       "      <td>2443</td>\n",
       "      <td>1937</td>\n",
       "      <td>2416</td>\n",
       "      <td>1991</td>\n",
       "      <td>2416</td>\n",
       "      <td>...</td>\n",
       "      <td>945</td>\n",
       "      <td>1235</td>\n",
       "      <td>2025</td>\n",
       "      <td>1154</td>\n",
       "      <td>1971</td>\n",
       "      <td>1181</td>\n",
       "      <td>1917</td>\n",
       "      <td>1208</td>\n",
       "      <td>1836</td>\n",
       "      <td>1208</td>\n",
       "    </tr>\n",
       "    <tr>\n",
       "      <th>3</th>\n",
       "      <td>296961468_1.jpg</td>\n",
       "      <td>835</td>\n",
       "      <td>1471</td>\n",
       "      <td>835</td>\n",
       "      <td>1512</td>\n",
       "      <td>842</td>\n",
       "      <td>1552</td>\n",
       "      <td>856</td>\n",
       "      <td>1593</td>\n",
       "      <td>869</td>\n",
       "      <td>...</td>\n",
       "      <td>1201</td>\n",
       "      <td>1166</td>\n",
       "      <td>1242</td>\n",
       "      <td>1166</td>\n",
       "      <td>1283</td>\n",
       "      <td>1166</td>\n",
       "      <td>1323</td>\n",
       "      <td>1180</td>\n",
       "      <td>1378</td>\n",
       "      <td>1180</td>\n",
       "    </tr>\n",
       "    <tr>\n",
       "      <th>4</th>\n",
       "      <td>2970690152_2.jpg</td>\n",
       "      <td>1029</td>\n",
       "      <td>766</td>\n",
       "      <td>1029</td>\n",
       "      <td>785</td>\n",
       "      <td>1022</td>\n",
       "      <td>805</td>\n",
       "      <td>1016</td>\n",
       "      <td>824</td>\n",
       "      <td>1016</td>\n",
       "      <td>...</td>\n",
       "      <td>895</td>\n",
       "      <td>613</td>\n",
       "      <td>882</td>\n",
       "      <td>613</td>\n",
       "      <td>863</td>\n",
       "      <td>613</td>\n",
       "      <td>850</td>\n",
       "      <td>613</td>\n",
       "      <td>837</td>\n",
       "      <td>613</td>\n",
       "    </tr>\n",
       "    <tr>\n",
       "      <th>...</th>\n",
       "      <td>...</td>\n",
       "      <td>...</td>\n",
       "      <td>...</td>\n",
       "      <td>...</td>\n",
       "      <td>...</td>\n",
       "      <td>...</td>\n",
       "      <td>...</td>\n",
       "      <td>...</td>\n",
       "      <td>...</td>\n",
       "      <td>...</td>\n",
       "      <td>...</td>\n",
       "      <td>...</td>\n",
       "      <td>...</td>\n",
       "      <td>...</td>\n",
       "      <td>...</td>\n",
       "      <td>...</td>\n",
       "      <td>...</td>\n",
       "      <td>...</td>\n",
       "      <td>...</td>\n",
       "      <td>...</td>\n",
       "      <td>...</td>\n",
       "    </tr>\n",
       "    <tr>\n",
       "      <th>325</th>\n",
       "      <td>3260548295_1.jpg</td>\n",
       "      <td>1163</td>\n",
       "      <td>906</td>\n",
       "      <td>1149</td>\n",
       "      <td>920</td>\n",
       "      <td>1149</td>\n",
       "      <td>941</td>\n",
       "      <td>1134</td>\n",
       "      <td>963</td>\n",
       "      <td>1120</td>\n",
       "      <td>...</td>\n",
       "      <td>1106</td>\n",
       "      <td>730</td>\n",
       "      <td>1099</td>\n",
       "      <td>723</td>\n",
       "      <td>1070</td>\n",
       "      <td>723</td>\n",
       "      <td>1052</td>\n",
       "      <td>716</td>\n",
       "      <td>1038</td>\n",
       "      <td>716</td>\n",
       "    </tr>\n",
       "    <tr>\n",
       "      <th>326</th>\n",
       "      <td>3260548295_2.jpg</td>\n",
       "      <td>350</td>\n",
       "      <td>463</td>\n",
       "      <td>350</td>\n",
       "      <td>472</td>\n",
       "      <td>350</td>\n",
       "      <td>489</td>\n",
       "      <td>350</td>\n",
       "      <td>502</td>\n",
       "      <td>354</td>\n",
       "      <td>...</td>\n",
       "      <td>393</td>\n",
       "      <td>379</td>\n",
       "      <td>406</td>\n",
       "      <td>379</td>\n",
       "      <td>412</td>\n",
       "      <td>379</td>\n",
       "      <td>421</td>\n",
       "      <td>383</td>\n",
       "      <td>430</td>\n",
       "      <td>383</td>\n",
       "    </tr>\n",
       "    <tr>\n",
       "      <th>327</th>\n",
       "      <td>3261640996_1.jpg</td>\n",
       "      <td>570</td>\n",
       "      <td>787</td>\n",
       "      <td>577</td>\n",
       "      <td>809</td>\n",
       "      <td>584</td>\n",
       "      <td>830</td>\n",
       "      <td>591</td>\n",
       "      <td>858</td>\n",
       "      <td>599</td>\n",
       "      <td>...</td>\n",
       "      <td>681</td>\n",
       "      <td>634</td>\n",
       "      <td>702</td>\n",
       "      <td>634</td>\n",
       "      <td>723</td>\n",
       "      <td>634</td>\n",
       "      <td>738</td>\n",
       "      <td>634</td>\n",
       "      <td>752</td>\n",
       "      <td>634</td>\n",
       "    </tr>\n",
       "    <tr>\n",
       "      <th>328</th>\n",
       "      <td>3262777136_1.jpg</td>\n",
       "      <td>429</td>\n",
       "      <td>357</td>\n",
       "      <td>425</td>\n",
       "      <td>369</td>\n",
       "      <td>421</td>\n",
       "      <td>381</td>\n",
       "      <td>421</td>\n",
       "      <td>396</td>\n",
       "      <td>417</td>\n",
       "      <td>...</td>\n",
       "      <td>368</td>\n",
       "      <td>266</td>\n",
       "      <td>357</td>\n",
       "      <td>266</td>\n",
       "      <td>345</td>\n",
       "      <td>270</td>\n",
       "      <td>337</td>\n",
       "      <td>270</td>\n",
       "      <td>326</td>\n",
       "      <td>274</td>\n",
       "    </tr>\n",
       "    <tr>\n",
       "      <th>329</th>\n",
       "      <td>3266693323_1.jpg</td>\n",
       "      <td>731</td>\n",
       "      <td>974</td>\n",
       "      <td>731</td>\n",
       "      <td>991</td>\n",
       "      <td>731</td>\n",
       "      <td>1025</td>\n",
       "      <td>731</td>\n",
       "      <td>1051</td>\n",
       "      <td>722</td>\n",
       "      <td>...</td>\n",
       "      <td>983</td>\n",
       "      <td>768</td>\n",
       "      <td>1009</td>\n",
       "      <td>768</td>\n",
       "      <td>1035</td>\n",
       "      <td>777</td>\n",
       "      <td>1056</td>\n",
       "      <td>785</td>\n",
       "      <td>1073</td>\n",
       "      <td>790</td>\n",
       "    </tr>\n",
       "  </tbody>\n",
       "</table>\n",
       "<p>330 rows × 389 columns</p>\n",
       "</div>"
      ],
      "text/plain": [
       "            file_name  Point_M0_X  Point_M0_Y  Point_M1_X  Point_M1_Y  \\\n",
       "0     296814969_3.jpg         280         397         283         411   \n",
       "1    2968560214_1.jpg         669         518         661         542   \n",
       "2    2968784797_1.jpg         433        1788         433        1869   \n",
       "3     296961468_1.jpg         835        1471         835        1512   \n",
       "4    2970690152_2.jpg        1029         766        1029         785   \n",
       "..                ...         ...         ...         ...         ...   \n",
       "325  3260548295_1.jpg        1163         906        1149         920   \n",
       "326  3260548295_2.jpg         350         463         350         472   \n",
       "327  3261640996_1.jpg         570         787         577         809   \n",
       "328  3262777136_1.jpg         429         357         425         369   \n",
       "329  3266693323_1.jpg         731         974         731         991   \n",
       "\n",
       "     Point_M2_X  Point_M2_Y  Point_M3_X  Point_M3_Y  Point_M4_X  ...  \\\n",
       "0           287         418         291         432         294  ...   \n",
       "1           661         566         653         598         645  ...   \n",
       "2          2443        1937        2416        1991        2416  ...   \n",
       "3           842        1552         856        1593         869  ...   \n",
       "4          1022         805        1016         824        1016  ...   \n",
       "..          ...         ...         ...         ...         ...  ...   \n",
       "325        1149         941        1134         963        1120  ...   \n",
       "326         350         489         350         502         354  ...   \n",
       "327         584         830         591         858         599  ...   \n",
       "328         421         381         421         396         417  ...   \n",
       "329         731        1025         731        1051         722  ...   \n",
       "\n",
       "     Point_M189_X  Point_M189_Y  Point_M190_X  Point_M190_Y  Point_M191_X  \\\n",
       "0             378           320           389           320           400   \n",
       "1             530           371           506           371           490   \n",
       "2             945          1235          2025          1154          1971   \n",
       "3            1201          1166          1242          1166          1283   \n",
       "4             895           613           882           613           863   \n",
       "..            ...           ...           ...           ...           ...   \n",
       "325          1106           730          1099           723          1070   \n",
       "326           393           379           406           379           412   \n",
       "327           681           634           702           634           723   \n",
       "328           368           266           357           266           345   \n",
       "329           983           768          1009           768          1035   \n",
       "\n",
       "     Point_M191_Y  Point_M192_X  Point_M192_Y  Point_M193_X  Point_M193_Y  \n",
       "0             320           407           323           418           323  \n",
       "1             379           466           379           450           379  \n",
       "2            1181          1917          1208          1836          1208  \n",
       "3            1166          1323          1180          1378          1180  \n",
       "4             613           850           613           837           613  \n",
       "..            ...           ...           ...           ...           ...  \n",
       "325           723          1052           716          1038           716  \n",
       "326           379           421           383           430           383  \n",
       "327           634           738           634           752           634  \n",
       "328           270           337           270           326           274  \n",
       "329           777          1056           785          1073           790  \n",
       "\n",
       "[330 rows x 389 columns]"
      ]
     },
     "execution_count": 7,
     "metadata": {},
     "output_type": "execute_result"
    }
   ],
   "source": [
    "landmarks"
   ]
  },
  {
   "cell_type": "code",
   "execution_count": 8,
   "metadata": {},
   "outputs": [],
   "source": [
    "def minmax_somelandmarks(x):\n",
    "    list_points = points_lips\n",
    "    list_coords_x = [x[f\"Point_M{id_point}_X\"] for id_point in list_points]\n",
    "    list_coords_y = [x[f\"Point_M{id_point}_Y\"] for id_point in list_points]\n",
    "    x_min = min(list_coords_x)\n",
    "    x_max = max(list_coords_x)\n",
    "    y_min = min(list_coords_y)\n",
    "    y_max = max(list_coords_y)\n",
    "    return [x_min, y_min, x_max, y_max]\n",
    "landmarks['rect_lips'] = landmarks.apply(minmax_somelandmarks, axis=1)"
   ]
  },
  {
   "cell_type": "code",
   "execution_count": 9,
   "metadata": {},
   "outputs": [
    {
     "data": {
      "text/plain": [
       "0          [403, 452, 498, 491]\n",
       "1          [243, 682, 450, 769]\n",
       "2      [1229, 2314, 1944, 2571]\n",
       "3      [1310, 1735, 1669, 1925]\n",
       "4          [645, 866, 824, 906]\n",
       "                 ...           \n",
       "325      [798, 963, 1009, 1052]\n",
       "326        [421, 547, 540, 586]\n",
       "327        [752, 873, 962, 969]\n",
       "328        [211, 404, 314, 457]\n",
       "329     [958, 1128, 1176, 1218]\n",
       "Name: rect_lips, Length: 330, dtype: object"
      ]
     },
     "execution_count": 9,
     "metadata": {},
     "output_type": "execute_result"
    }
   ],
   "source": [
    "landmarks['rect_lips']"
   ]
  },
  {
   "cell_type": "code",
   "execution_count": 13,
   "metadata": {},
   "outputs": [],
   "source": [
    "import re\n",
    "def expand_bbox(x):\n",
    "    r = np.array(re.findall(\"([0-9]+[.]?[0-9]*)\", x))\n",
    "    if len(r) == 0:\n",
    "        r = [-1, -1, -1, -1]\n",
    "    return r"
   ]
  },
  {
   "cell_type": "code",
   "execution_count": 14,
   "metadata": {},
   "outputs": [
    {
     "ename": "TypeError",
     "evalue": "expected string or bytes-like object",
     "output_type": "error",
     "traceback": [
      "\u001b[0;31m---------------------------------------------------------------------------\u001b[0m",
      "\u001b[0;31mTypeError\u001b[0m                                 Traceback (most recent call last)",
      "\u001b[0;32m<ipython-input-14-a9d3cbf1495d>\u001b[0m in \u001b[0;36m<module>\u001b[0;34m\u001b[0m\n\u001b[0;32m----> 1\u001b[0;31m \u001b[0mpd\u001b[0m\u001b[0;34m.\u001b[0m\u001b[0mDataFrame\u001b[0m\u001b[0;34m(\u001b[0m\u001b[0mnp\u001b[0m\u001b[0;34m.\u001b[0m\u001b[0mstack\u001b[0m\u001b[0;34m(\u001b[0m\u001b[0mlandmarks\u001b[0m\u001b[0;34m[\u001b[0m\u001b[0;34m'rect_lips'\u001b[0m\u001b[0;34m]\u001b[0m\u001b[0;34m.\u001b[0m\u001b[0mapply\u001b[0m\u001b[0;34m(\u001b[0m\u001b[0;32mlambda\u001b[0m \u001b[0mx\u001b[0m\u001b[0;34m:\u001b[0m \u001b[0mexpand_bbox\u001b[0m\u001b[0;34m(\u001b[0m\u001b[0mx\u001b[0m\u001b[0;34m)\u001b[0m\u001b[0;34m)\u001b[0m\u001b[0;34m)\u001b[0m\u001b[0;34m)\u001b[0m\u001b[0;34m\u001b[0m\u001b[0;34m\u001b[0m\u001b[0m\n\u001b[0m",
      "\u001b[0;32m/usr/local/lib/python3.6/dist-packages/pandas/core/series.py\u001b[0m in \u001b[0;36mapply\u001b[0;34m(self, func, convert_dtype, args, **kwds)\u001b[0m\n\u001b[1;32m   3846\u001b[0m             \u001b[0;32melse\u001b[0m\u001b[0;34m:\u001b[0m\u001b[0;34m\u001b[0m\u001b[0;34m\u001b[0m\u001b[0m\n\u001b[1;32m   3847\u001b[0m                 \u001b[0mvalues\u001b[0m \u001b[0;34m=\u001b[0m \u001b[0mself\u001b[0m\u001b[0;34m.\u001b[0m\u001b[0mastype\u001b[0m\u001b[0;34m(\u001b[0m\u001b[0mobject\u001b[0m\u001b[0;34m)\u001b[0m\u001b[0;34m.\u001b[0m\u001b[0mvalues\u001b[0m\u001b[0;34m\u001b[0m\u001b[0;34m\u001b[0m\u001b[0m\n\u001b[0;32m-> 3848\u001b[0;31m                 \u001b[0mmapped\u001b[0m \u001b[0;34m=\u001b[0m \u001b[0mlib\u001b[0m\u001b[0;34m.\u001b[0m\u001b[0mmap_infer\u001b[0m\u001b[0;34m(\u001b[0m\u001b[0mvalues\u001b[0m\u001b[0;34m,\u001b[0m \u001b[0mf\u001b[0m\u001b[0;34m,\u001b[0m \u001b[0mconvert\u001b[0m\u001b[0;34m=\u001b[0m\u001b[0mconvert_dtype\u001b[0m\u001b[0;34m)\u001b[0m\u001b[0;34m\u001b[0m\u001b[0;34m\u001b[0m\u001b[0m\n\u001b[0m\u001b[1;32m   3849\u001b[0m \u001b[0;34m\u001b[0m\u001b[0m\n\u001b[1;32m   3850\u001b[0m         \u001b[0;32mif\u001b[0m \u001b[0mlen\u001b[0m\u001b[0;34m(\u001b[0m\u001b[0mmapped\u001b[0m\u001b[0;34m)\u001b[0m \u001b[0;32mand\u001b[0m \u001b[0misinstance\u001b[0m\u001b[0;34m(\u001b[0m\u001b[0mmapped\u001b[0m\u001b[0;34m[\u001b[0m\u001b[0;36m0\u001b[0m\u001b[0;34m]\u001b[0m\u001b[0;34m,\u001b[0m \u001b[0mSeries\u001b[0m\u001b[0;34m)\u001b[0m\u001b[0;34m:\u001b[0m\u001b[0;34m\u001b[0m\u001b[0;34m\u001b[0m\u001b[0m\n",
      "\u001b[0;32mpandas/_libs/lib.pyx\u001b[0m in \u001b[0;36mpandas._libs.lib.map_infer\u001b[0;34m()\u001b[0m\n",
      "\u001b[0;32m<ipython-input-14-a9d3cbf1495d>\u001b[0m in \u001b[0;36m<lambda>\u001b[0;34m(x)\u001b[0m\n\u001b[0;32m----> 1\u001b[0;31m \u001b[0mpd\u001b[0m\u001b[0;34m.\u001b[0m\u001b[0mDataFrame\u001b[0m\u001b[0;34m(\u001b[0m\u001b[0mnp\u001b[0m\u001b[0;34m.\u001b[0m\u001b[0mstack\u001b[0m\u001b[0;34m(\u001b[0m\u001b[0mlandmarks\u001b[0m\u001b[0;34m[\u001b[0m\u001b[0;34m'rect_lips'\u001b[0m\u001b[0;34m]\u001b[0m\u001b[0;34m.\u001b[0m\u001b[0mapply\u001b[0m\u001b[0;34m(\u001b[0m\u001b[0;32mlambda\u001b[0m \u001b[0mx\u001b[0m\u001b[0;34m:\u001b[0m \u001b[0mexpand_bbox\u001b[0m\u001b[0;34m(\u001b[0m\u001b[0mx\u001b[0m\u001b[0;34m)\u001b[0m\u001b[0;34m)\u001b[0m\u001b[0;34m)\u001b[0m\u001b[0;34m)\u001b[0m\u001b[0;34m\u001b[0m\u001b[0;34m\u001b[0m\u001b[0m\n\u001b[0m",
      "\u001b[0;32m<ipython-input-13-da64e04220ed>\u001b[0m in \u001b[0;36mexpand_bbox\u001b[0;34m(x)\u001b[0m\n\u001b[1;32m      1\u001b[0m \u001b[0;32mimport\u001b[0m \u001b[0mre\u001b[0m\u001b[0;34m\u001b[0m\u001b[0;34m\u001b[0m\u001b[0m\n\u001b[1;32m      2\u001b[0m \u001b[0;32mdef\u001b[0m \u001b[0mexpand_bbox\u001b[0m\u001b[0;34m(\u001b[0m\u001b[0mx\u001b[0m\u001b[0;34m)\u001b[0m\u001b[0;34m:\u001b[0m\u001b[0;34m\u001b[0m\u001b[0;34m\u001b[0m\u001b[0m\n\u001b[0;32m----> 3\u001b[0;31m     \u001b[0mr\u001b[0m \u001b[0;34m=\u001b[0m \u001b[0mnp\u001b[0m\u001b[0;34m.\u001b[0m\u001b[0marray\u001b[0m\u001b[0;34m(\u001b[0m\u001b[0mre\u001b[0m\u001b[0;34m.\u001b[0m\u001b[0mfindall\u001b[0m\u001b[0;34m(\u001b[0m\u001b[0;34m\"([0-9]+[.]?[0-9]*)\"\u001b[0m\u001b[0;34m,\u001b[0m \u001b[0mx\u001b[0m\u001b[0;34m)\u001b[0m\u001b[0;34m)\u001b[0m\u001b[0;34m\u001b[0m\u001b[0;34m\u001b[0m\u001b[0m\n\u001b[0m\u001b[1;32m      4\u001b[0m     \u001b[0;32mif\u001b[0m \u001b[0mlen\u001b[0m\u001b[0;34m(\u001b[0m\u001b[0mr\u001b[0m\u001b[0;34m)\u001b[0m \u001b[0;34m==\u001b[0m \u001b[0;36m0\u001b[0m\u001b[0;34m:\u001b[0m\u001b[0;34m\u001b[0m\u001b[0;34m\u001b[0m\u001b[0m\n\u001b[1;32m      5\u001b[0m         \u001b[0mr\u001b[0m \u001b[0;34m=\u001b[0m \u001b[0;34m[\u001b[0m\u001b[0;34m-\u001b[0m\u001b[0;36m1\u001b[0m\u001b[0;34m,\u001b[0m \u001b[0;34m-\u001b[0m\u001b[0;36m1\u001b[0m\u001b[0;34m,\u001b[0m \u001b[0;34m-\u001b[0m\u001b[0;36m1\u001b[0m\u001b[0;34m,\u001b[0m \u001b[0;34m-\u001b[0m\u001b[0;36m1\u001b[0m\u001b[0;34m]\u001b[0m\u001b[0;34m\u001b[0m\u001b[0;34m\u001b[0m\u001b[0m\n",
      "\u001b[0;32m/usr/lib/python3.6/re.py\u001b[0m in \u001b[0;36mfindall\u001b[0;34m(pattern, string, flags)\u001b[0m\n\u001b[1;32m    220\u001b[0m \u001b[0;34m\u001b[0m\u001b[0m\n\u001b[1;32m    221\u001b[0m     Empty matches are included in the result.\"\"\"\n\u001b[0;32m--> 222\u001b[0;31m     \u001b[0;32mreturn\u001b[0m \u001b[0m_compile\u001b[0m\u001b[0;34m(\u001b[0m\u001b[0mpattern\u001b[0m\u001b[0;34m,\u001b[0m \u001b[0mflags\u001b[0m\u001b[0;34m)\u001b[0m\u001b[0;34m.\u001b[0m\u001b[0mfindall\u001b[0m\u001b[0;34m(\u001b[0m\u001b[0mstring\u001b[0m\u001b[0;34m)\u001b[0m\u001b[0;34m\u001b[0m\u001b[0;34m\u001b[0m\u001b[0m\n\u001b[0m\u001b[1;32m    223\u001b[0m \u001b[0;34m\u001b[0m\u001b[0m\n\u001b[1;32m    224\u001b[0m \u001b[0;32mdef\u001b[0m \u001b[0mfinditer\u001b[0m\u001b[0;34m(\u001b[0m\u001b[0mpattern\u001b[0m\u001b[0;34m,\u001b[0m \u001b[0mstring\u001b[0m\u001b[0;34m,\u001b[0m \u001b[0mflags\u001b[0m\u001b[0;34m=\u001b[0m\u001b[0;36m0\u001b[0m\u001b[0;34m)\u001b[0m\u001b[0;34m:\u001b[0m\u001b[0;34m\u001b[0m\u001b[0;34m\u001b[0m\u001b[0m\n",
      "\u001b[0;31mTypeError\u001b[0m: expected string or bytes-like object"
     ]
    }
   ],
   "source": [
    "pd.DataFrame(np.stack(landmarks['rect_lips'].apply(lambda x: expand_bbox(x))))"
   ]
  },
  {
   "cell_type": "code",
   "execution_count": 32,
   "metadata": {},
   "outputs": [],
   "source": [
    "landmarks.to_csv(os.path.join(DIR_TRAIN, 'landmarks_train.csv'), index=False)"
   ]
  },
  {
   "cell_type": "code",
   "execution_count": 21,
   "metadata": {},
   "outputs": [],
   "source": [
    "def expand_bbox(x):\n",
    "    r = np.array(re.findall(\"([0-9]+[.]?[0-9]*)\", x), dtype=np.int32)\n",
    "    if len(r) == 0:\n",
    "        r = [-1, -1, -1, -1]\n",
    "    return r"
   ]
  },
  {
   "cell_type": "code",
   "execution_count": 10,
   "metadata": {},
   "outputs": [],
   "source": [
    "import random\n",
    "import math"
   ]
  },
  {
   "cell_type": "code",
   "execution_count": 11,
   "metadata": {},
   "outputs": [
    {
     "data": {
      "image/png": "[encoded data removed]",
      "text/plain": [
       "<PIL.Image.Image image mode=RGB size=300x200 at 0x7FC1C1114D30>"
      ]
     },
     "execution_count": 11,
     "metadata": {},
     "output_type": "execute_result"
    }
   ],
   "source": [
    "img = Image.new('RGB', (300, 200), (125, 125, 125))\n",
    "img"
   ]
  },
  {
   "cell_type": "code",
   "execution_count": 12,
   "metadata": {},
   "outputs": [],
   "source": [
    "def random_erasing(img,  p=0.5, scale=(0.02, 0.33), ratio=(0.3, 3.3), value=(125, 125, 125), inplace=False):\n",
    "    \"\"\"\n",
    "    random erasing for pil image\n",
    "    p – probability that the random erasing operation will be performed.\n",
    "    scale – range of proportion of erased area against input image.\n",
    "    ratio – range of aspect ratio of erased area.\n",
    "    value – erasing value. Default is 0. If a single int, it is used to erase all pixels. If a tuple of length 3, it is used to erase R, G, B channels respectively. If a str of ‘random’, erasing each pixel with random values.\n",
    "    \n",
    "    \"\"\"\n",
    "    def get_params():\n",
    "        img_w, img_h = img.size\n",
    "        area = img_h * img_w\n",
    "        for _ in range(10):\n",
    "            erase_area = random.uniform(scale[0], scale[1]) * area\n",
    "            aspect_ratio = random.uniform(ratio[0], ratio[1])\n",
    "            h = int(round(math.sqrt(erase_area * aspect_ratio)))\n",
    "            w = int(round(math.sqrt(erase_area / aspect_ratio)))\n",
    "            if h < img_h and w < img_w:\n",
    "                i = random.randint(0, img_h - h)\n",
    "                j = random.randint(0, img_w - w)\n",
    "                return i, j, h, w,\n",
    "        return 0, 0, img_h, img_w\n",
    "    if random.uniform(0, 1) < p:\n",
    "        \n",
    "        x, y, h, w =get_params()\n",
    "        print(x, y, h, w)\n",
    "        erase_img = Image.new('RGB', (w, h), value)\n",
    "        if not inplace:\n",
    "            copy_img = img.copy()\n",
    "            copy_img.paste(erase_img, (y,x))\n",
    "            return copy_img\n",
    "        img.paste(erase_img, (y, x))\n",
    "    return img"
   ]
  },
  {
   "cell_type": "code",
   "execution_count": 16,
   "metadata": {},
   "outputs": [
    {
     "name": "stdout",
     "output_type": "stream",
     "text": [
      "[403, 452, 498, 491] <class 'list'>\n"
     ]
    }
   ],
   "source": [
    "row = landmarks.loc[0]\n",
    "img = Image.open(os.path.join(DIR_TEST, 'images', row['file_name']))\n",
    "draw = ImageDraw.Draw(img)\n",
    "box = row['rect_lips']\n",
    "# box = expand_bbox(row['rect_lips'])\n",
    "print(box, type(box))\n",
    "img_crop = img.crop(box)"
   ]
  },
  {
   "cell_type": "code",
   "execution_count": 17,
   "metadata": {},
   "outputs": [
    {
     "data": {
      "text/plain": [
       "(95, 39)"
      ]
     },
     "execution_count": 17,
     "metadata": {},
     "output_type": "execute_result"
    }
   ],
   "source": [
    "img_crop.size"
   ]
  },
  {
   "cell_type": "code",
   "execution_count": 18,
   "metadata": {},
   "outputs": [
    {
     "data": {
      "image/png": "[encoded data removed]",
      "text/plain": [
       "<PIL.Image.Image image mode=RGB size=95x39 at 0x7FC1C0DA0278>"
      ]
     },
     "execution_count": 18,
     "metadata": {},
     "output_type": "execute_result"
    }
   ],
   "source": [
    "img_crop"
   ]
  },
  {
   "cell_type": "code",
   "execution_count": 109,
   "metadata": {},
   "outputs": [
    {
     "name": "stdout",
     "output_type": "stream",
     "text": [
      "13 0 69 56\n"
     ]
    },
    {
     "data": {
      "image/png": "[encoded data removed]",
      "text/plain": [
       "<PIL.Image.Image image mode=RGB size=201x92 at 0x24E8642C1C8>"
      ]
     },
     "execution_count": 109,
     "metadata": {},
     "output_type": "execute_result"
    }
   ],
   "source": [
    "ers_img = random_erasing(img_crop)\n",
    "ers_img"
   ]
  },
  {
   "cell_type": "code",
   "execution_count": 80,
   "metadata": {},
   "outputs": [],
   "source": [
    "from torchvision import transforms"
   ]
  },
  {
   "cell_type": "code",
   "execution_count": 25,
   "metadata": {},
   "outputs": [
    {
     "ename": "AttributeError",
     "evalue": "module 'torchvision.transforms' has no attribute 'RandomErasing'",
     "output_type": "error",
     "traceback": [
      "\u001b[1;31m---------------------------------------------------------------------------\u001b[0m",
      "\u001b[1;31mAttributeError\u001b[0m                            Traceback (most recent call last)",
      "\u001b[1;32m<ipython-input-25-f7cd535e6b0a>\u001b[0m in \u001b[0;36m<module>\u001b[1;34m\u001b[0m\n\u001b[0;32m      2\u001b[0m \u001b[0mtransforms\u001b[0m\u001b[1;33m.\u001b[0m\u001b[0mToTensor\u001b[0m\u001b[1;33m(\u001b[0m\u001b[1;33m)\u001b[0m\u001b[1;33m,\u001b[0m\u001b[1;33m\u001b[0m\u001b[1;33m\u001b[0m\u001b[0m\n\u001b[0;32m      3\u001b[0m \u001b[0mtransforms\u001b[0m\u001b[1;33m.\u001b[0m\u001b[0mNormalize\u001b[0m\u001b[1;33m(\u001b[0m\u001b[1;33m(\u001b[0m\u001b[1;36m0.485\u001b[0m\u001b[1;33m,\u001b[0m \u001b[1;36m0.456\u001b[0m\u001b[1;33m,\u001b[0m \u001b[1;36m0.406\u001b[0m\u001b[1;33m)\u001b[0m\u001b[1;33m,\u001b[0m \u001b[1;33m(\u001b[0m\u001b[1;36m0.229\u001b[0m\u001b[1;33m,\u001b[0m \u001b[1;36m0.224\u001b[0m\u001b[1;33m,\u001b[0m \u001b[1;36m0.225\u001b[0m\u001b[1;33m)\u001b[0m\u001b[1;33m)\u001b[0m\u001b[1;33m,\u001b[0m\u001b[1;33m\u001b[0m\u001b[1;33m\u001b[0m\u001b[0m\n\u001b[1;32m----> 4\u001b[1;33m \u001b[0mtransforms\u001b[0m\u001b[1;33m.\u001b[0m\u001b[0mRandomErasing\u001b[0m\u001b[1;33m(\u001b[0m\u001b[1;33m)\u001b[0m\u001b[1;33m,\u001b[0m\u001b[1;33m\u001b[0m\u001b[1;33m\u001b[0m\u001b[0m\n\u001b[0m\u001b[0;32m      5\u001b[0m \u001b[0mtransforms\u001b[0m\u001b[1;33m.\u001b[0m\u001b[0mToPILImage\u001b[0m\u001b[1;33m(\u001b[0m\u001b[1;33m)\u001b[0m\u001b[1;33m\u001b[0m\u001b[1;33m\u001b[0m\u001b[0m\n\u001b[0;32m      6\u001b[0m ])\n",
      "\u001b[1;31mAttributeError\u001b[0m: module 'torchvision.transforms' has no attribute 'RandomErasing'"
     ]
    }
   ],
   "source": [
    "transform = transforms.Compose([\n",
    "transforms.ToTensor(),\n",
    "transforms.Normalize((0.485, 0.456, 0.406), (0.229, 0.224, 0.225)),\n",
    "transforms.RandomErasing(),\n",
    "transforms.ToPILImage()\n",
    "])"
   ]
  },
  {
   "cell_type": "code",
   "execution_count": null,
   "metadata": {},
   "outputs": [],
   "source": []
  }
 ],
 "metadata": {
  "kernelspec": {
   "display_name": "Python 3",
   "language": "python",
   "name": "python3"
  },
  "language_info": {
   "codemirror_mode": {
    "name": "ipython",
    "version": 3
   },
   "file_extension": ".py",
   "mimetype": "text/x-python",
   "name": "python",
   "nbconvert_exporter": "python",
   "pygments_lexer": "ipython3",
   "version": "3.6.9"
  }
 },
 "nbformat": 4,
 "nbformat_minor": 2
}
