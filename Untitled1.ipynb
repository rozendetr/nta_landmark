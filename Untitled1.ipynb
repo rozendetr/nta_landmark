{
 "cells": [
  {
   "cell_type": "code",
   "execution_count": 16,
   "metadata": {},
   "outputs": [],
   "source": [
    "import os\n",
    "\n",
    "import torch\n",
    "from scipy import interpolate\n",
    "from scipy.ndimage.morphology import grey_dilation\n",
    "import pandas as pd\n",
    "import numpy as np\n",
    "import cv2\n",
    "from PIL import Image"
   ]
  },
  {
   "cell_type": "code",
   "execution_count": null,
   "metadata": {},
   "outputs": [],
   "source": []
  },
  {
   "cell_type": "code",
   "execution_count": 8,
   "metadata": {},
   "outputs": [],
   "source": [
    "def gaussian2D(shape, sigma=1):\n",
    "    m, n = [(ss - 1.) / 2. for ss in shape]\n",
    "    y, x = np.ogrid[-m:m + 1, -n:n + 1]\n",
    "\n",
    "    h = np.exp(-(x * x + y * y) / (2 * sigma * sigma))\n",
    "    h[h < np.finfo(h.dtype).eps * h.max()] = 0\n",
    "    return h"
   ]
  },
  {
   "cell_type": "code",
   "execution_count": 9,
   "metadata": {},
   "outputs": [],
   "source": [
    "def draw_umich_gaussian(heatmap, center, radius, k=1):\n",
    "    diameter = 2 * radius + 1\n",
    "    gaussian = gaussian2D((diameter, diameter), sigma=diameter / 6)\n",
    "\n",
    "    x, y = int(center[0]), int(center[1])\n",
    "\n",
    "    height, width = heatmap.shape[0:2]\n",
    "\n",
    "    left, right = min(x, radius), min(width - x, radius + 1)\n",
    "    top, bottom = min(y, radius), min(height - y, radius + 1)\n",
    "\n",
    "    masked_heatmap = heatmap[y - top:y + bottom, x - left:x + right]\n",
    "    masked_gaussian = gaussian[radius - top:radius + bottom, radius - left:radius + right]\n",
    "    if min(masked_gaussian.shape) > 0 and min(masked_heatmap.shape) > 0:  # TODO debug\n",
    "        np.maximum(masked_heatmap, masked_gaussian * k, out=masked_heatmap)\n",
    "    return heatmap"
   ]
  },
  {
   "cell_type": "code",
   "execution_count": 10,
   "metadata": {},
   "outputs": [],
   "source": [
    "def drawline(img,annots):\n",
    "    shape = img.shape\n",
    "    points_cnt = annots.shape[0]\n",
    "    heatmap = np.zeros((shape[0],shape[1]))\n",
    "    heatmap[[list(annots[:,1]),list(annots[:,0])]] = 1\n",
    "    \"\"\"\n",
    "    for p in range(points_cnt-1):\n",
    "        heatmap = cv2.line(heatmap,tuple(annots[p,:]),tuple(annots[p+1,:]),(255,255,255),thickness=5)\n",
    "    heatmap = heatmap.astype(np.float32)\n",
    "    annots = annots.astype(np.int)\n",
    "    heatmap = cv2.polylines(heatmap, [annots], False, (255,255,255), thickness=3, lineType=cv2.LINE_AA)\n",
    "    \"\"\"\n",
    "\n",
    "    annots = annots.astype(np.float32)\n",
    "    x,y = annots[:,0],annots[:,1]\n",
    "    l=len(x)\n",
    "    t=np.linspace(0,1,l-2,endpoint=True)\n",
    "    t=np.append([0,0,0],t)\n",
    "    t=np.append(t,[1,1,1])\n",
    "    tck=[t,[x,y],3]\n",
    "    u3=np.linspace(0,1,(max(l*2,500)),endpoint=True)\n",
    "    out = interpolate.splev(u3,tck)\n",
    "    heatmap[[list(out[1].astype(np.int)),list(out[0].astype(np.int))]] = 1\n",
    "\n",
    "    return heatmap"
   ]
  },
  {
   "cell_type": "code",
   "execution_count": 11,
   "metadata": {},
   "outputs": [],
   "source": [
    "def draw_boundary(img,annot):\n",
    "    heatmap = np.zeros((64,64))\n",
    "\n",
    "    heatmap += drawline(img,annot[0:17,:])\n",
    "    heatmap += drawline(img,annot[17:22,:])\n",
    "    heatmap += drawline(img,annot[22:27,:])\n",
    "    heatmap += drawline(img,annot[36:40,:])\n",
    "    heatmap += drawline(img, np.array([annot[i] for i in [36, 41, 40, 39]]))\n",
    "    heatmap += drawline(img,annot[42:46,:])\n",
    "    heatmap += drawline(img, np.array([annot[i] for i in [42, 47, 46, 45]]))\n",
    "    heatmap += drawline(img,annot[27:31,:])\n",
    "    heatmap += drawline(img,annot[31:36,:])\n",
    "    heatmap += drawline(img,annot[48:55,:])\n",
    "    heatmap += drawline(img, np.array([annot[i] for i in [60, 61, 62, 63, 64]]))\n",
    "    heatmap += drawline(img, np.array([annot[i] for i in [48, 59, 58, 57, 56, 55, 54]]))\n",
    "    heatmap += drawline(img, np.array([annot[i] for i in [60, 67, 66, 65, 64]]))\n",
    "    heatmap = np.clip(heatmap,0,1).astype(np.uint8)*255\n",
    "\n",
    "    heatmap = 255-heatmap\n",
    "    dist_transform = cv2.distanceTransform(heatmap, cv2.DIST_L2, cv2.DIST_MASK_PRECISE)\n",
    "    dist_transform = dist_transform.astype(np.float64)\n",
    "    sigma = 1\n",
    "    gt = np.where(dist_transform < 3*sigma, np.exp(-(dist_transform*dist_transform)/(2*sigma*sigma)), 0 )\n",
    "\n",
    "    return gt"
   ]
  },
  {
   "cell_type": "code",
   "execution_count": 12,
   "metadata": {},
   "outputs": [
    {
     "name": "stderr",
     "output_type": "stream",
     "text": [
      "d:\\program files\\lib\\site-packages\\ipykernel_launcher.py:5: FutureWarning: Using a non-tuple sequence for multidimensional indexing is deprecated; use `arr[tuple(seq)]` instead of `arr[seq]`. In the future this will be interpreted as an array index, `arr[np.array(seq)]`, which will result either in an error or a different result.\n",
      "  \"\"\"\n",
      "d:\\program files\\lib\\site-packages\\ipykernel_launcher.py:23: FutureWarning: Using a non-tuple sequence for multidimensional indexing is deprecated; use `arr[tuple(seq)]` instead of `arr[seq]`. In the future this will be interpreted as an array index, `arr[np.array(seq)]`, which will result either in an error or a different result.\n"
     ]
    }
   ],
   "source": [
    "hmap = np.zeros((68+1, 64, 64), dtype=np.float32)\n",
    "M = np.zeros((68+1, 64, 64), dtype=np.float32)\n",
    "\n",
    "rows = [[id_point, id_point] for id_point in range(0, 204, 3)]\n",
    "rows = np.array(rows)\n",
    "\n",
    "for ind, xy in enumerate(rows):\n",
    "    hmap[ind] = draw_umich_gaussian(hmap[ind], xy/256.*64, 7)\n",
    "    hmap[-1] = draw_boundary(hmap[-1],np.clip((rows/256.*64).astype(np.int),0,63))\n",
    "\n",
    "    for i in range(len(M)):\n",
    "        M[i] = grey_dilation(hmap[i], size=(3,3))\n",
    "    M = np.where(M>=0.5, 1, 0)"
   ]
  },
  {
   "cell_type": "code",
   "execution_count": 36,
   "metadata": {},
   "outputs": [
    {
     "data": {
      "image/png": "[encoded data removed]",
      "text/plain": [
       "<PIL.Image.Image image mode=L size=64x64 at 0x1D9D7D91188>"
      ]
     },
     "execution_count": 36,
     "metadata": {},
     "output_type": "execute_result"
    }
   ],
   "source": [
    "im = Image.fromarray(np.uint8(M[68]*255))\n",
    "im"
   ]
  },
  {
   "cell_type": "code",
   "execution_count": 29,
   "metadata": {},
   "outputs": [
    {
     "data": {
      "text/plain": [
       "array([[1, 1, 0, ..., 0, 0, 0],\n",
       "       [1, 1, 0, ..., 0, 0, 0],\n",
       "       [0, 0, 0, ..., 0, 0, 0],\n",
       "       ...,\n",
       "       [0, 0, 0, ..., 0, 0, 0],\n",
       "       [0, 0, 0, ..., 0, 0, 0],\n",
       "       [0, 0, 0, ..., 0, 0, 0]])"
      ]
     },
     "execution_count": 29,
     "metadata": {},
     "output_type": "execute_result"
    }
   ],
   "source": []
  },
  {
   "cell_type": "code",
   "execution_count": null,
   "metadata": {},
   "outputs": [],
   "source": []
  }
 ],
 "metadata": {
  "kernelspec": {
   "display_name": "Python 3",
   "language": "python",
   "name": "python3"
  },
  "language_info": {
   "codemirror_mode": {
    "name": "ipython",
    "version": 3
   },
   "file_extension": ".py",
   "mimetype": "text/x-python",
   "name": "python",
   "nbconvert_exporter": "python",
   "pygments_lexer": "ipython3",
   "version": "3.7.5"
  }
 },
 "nbformat": 4,
 "nbformat_minor": 2
}
